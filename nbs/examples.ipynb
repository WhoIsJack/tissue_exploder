{
 "cells": [
  {
   "cell_type": "code",
   "execution_count": null,
   "id": "8b15f95b",
   "metadata": {},
   "outputs": [],
   "source": [
    "# Prep\n",
    "\n",
    "import numpy as np\n",
    "import matplotlib.pyplot as plt\n",
    "from skimage.io import imread\n",
    "from matplotlib.colors import LinearSegmentedColormap as LSCmap\n",
    "\n",
    "from tissue_exploder import explode"
   ]
  },
  {
   "cell_type": "code",
   "execution_count": null,
   "id": "850ad2d3",
   "metadata": {
    "scrolled": true
   },
   "outputs": [],
   "source": [
    "# 2d example\n",
    "\n",
    "# Load\n",
    "ex2d_mem = imread('../imgs/zfish_memGFP_2d.tif')\n",
    "ex2d_seg = imread('../imgs/zfish_memGFP_2d_seg.tif')\n",
    "\n",
    "## Explode segmentation only\n",
    "#ex2d_seg_EXPL = explode(ex2d_seg, 1.7)\n",
    "\n",
    "# Explode segmentation and membranes\n",
    "ex2d_seg_EXPL, ex2d_mem_EXPL = explode(\n",
    "    ex2d_seg, 1.7, ex2d_mem.reshape((1,)+ex2d_mem.shape))\n",
    "\n",
    "# Visualize\n",
    "fig, ax = plt.subplots(1, 3, figsize=(8,4))\n",
    "ax[0].imshow(ex2d_mem, interpolation='none', cmap='gray')\n",
    "ax[1].imshow(ex2d_mem, interpolation='none', cmap='gray')\n",
    "ax[1].imshow(np.ma.array(ex2d_seg, mask=ex2d_seg==0), interpolation='none', \n",
    "             alpha=0.4, cmap='prism')\n",
    "ax[2].imshow(ex2d_mem_EXPL[0], interpolation='none', cmap='gray')\n",
    "ax[2].imshow(np.ma.array(ex2d_seg_EXPL, mask=ex2d_seg_EXPL==0), interpolation='none', \n",
    "             alpha=0.2, cmap='prism')\n",
    "for a in ax:\n",
    "    a.axis('off')\n",
    "plt.tight_layout()\n",
    "plt.show()"
   ]
  },
  {
   "cell_type": "code",
   "execution_count": null,
   "id": "c7150a7d",
   "metadata": {},
   "outputs": [],
   "source": [
    "# 3d example\n",
    "\n",
    "# Load\n",
    "ex3d = imread('../imgs/synthetic_test_3d.tif')\n",
    "ex3d = np.moveaxis(ex3d, -1, 0)\n",
    "\n",
    "# Explode\n",
    "ex3d_seg_EXPL, ex3d_other_EXPL = explode(\n",
    "    ex3d[0], 1.7, ex3d[1:])\n",
    "\n",
    "# Show\n",
    "s = 50\n",
    "fig, ax = plt.subplots(1, 3, figsize=(8,4))\n",
    "ax[0].imshow(ex3d[1, s], interpolation='none', cmap='gray')\n",
    "ax[0].imshow(ex3d[2, s], interpolation='none', alpha=0.5, \n",
    "             cmap=LSCmap.from_list('kYellow', ['black', 'yellow'], N=255))\n",
    "ax[1].imshow(ex3d[0, s], interpolation='none', cmap='inferno')\n",
    "ax[2].imshow(ex3d_seg_EXPL[int(s*1.7)], interpolation='none', cmap='inferno')\n",
    "ax[2].imshow(ex3d_other_EXPL[0, int(s*1.7)], interpolation='none', alpha=0.5, cmap='gray')\n",
    "ax[2].imshow(ex3d_other_EXPL[1, int(s*1.7)], interpolation='none', alpha=0.3,\n",
    "             cmap=LSCmap.from_list('kYellow', ['black', 'yellow'], N=255))\n",
    "for a in ax:\n",
    "    a.axis('off')\n",
    "plt.tight_layout()\n",
    "plt.show()"
   ]
  }
 ],
 "metadata": {
  "kernelspec": {
   "display_name": "Python [conda env:python3]",
   "language": "python",
   "name": "conda-env-python3-py"
  },
  "language_info": {
   "codemirror_mode": {
    "name": "ipython",
    "version": 3
   },
   "file_extension": ".py",
   "mimetype": "text/x-python",
   "name": "python",
   "nbconvert_exporter": "python",
   "pygments_lexer": "ipython3",
   "version": "3.9.16"
  }
 },
 "nbformat": 4,
 "nbformat_minor": 5
}
